{
 "cells": [
  {
   "cell_type": "markdown",
   "metadata": {
    "colab_type": "text",
    "id": "view-in-github"
   },
   "source": [
    "<a href=\"https://colab.research.google.com/github/yalcindemir/Claude-to-Codellama-Distillation/blob/main/notebooks/Claude_Code_Model_Colab_Clean.ipynb\" target=\"_parent\"><img src=\"https://colab.research.google.com/assets/colab-badge.svg\" alt=\"Open In Colab\"/></a>"
   ]
  },
  {
   "cell_type": "markdown",
   "metadata": {
    "id": "header"
   },
   "source": [
    "# 🚀 Claude-to-CodeLlama Knowledge Distillation\n",
    "\n",
    "**Transform Claude Opus 4's Superior Code Generation into an Accessible 7B Model**\n",
    "\n",
    "Bu notebook Claude Opus 4'den Code Llama 7B'ye bilgi damıtımının tam bir uçtan uca implementasyonunu sağlar.\n",
    "\n",
    "## 📋 Özellikler\n",
    "- 🧠 **Öğretmen-Öğrenci Öğrenme**: Claude Opus 4 → Code Llama 7B\n",
    "- 💰 **Maliyet Etkin**: Colab Pro eğitimi için ~$50-100\n",
    "- ⚡ **Bellek Etkin**: 6GB GPU için QLoRA optimizasyonu\n",
    "- 📊 **Kapsamlı Değerlendirme**: HumanEval ve MBPP benchmarkları\n",
    "- 🔧 **Üretim Hazır**: Eğitilen modeli kaydet ve deploy et\n",
    "\n",
    "## 🎯 Beklenen Sonuçlar\n",
    "- **HumanEval**: 70-75% pass@1 (vs 33.5% baseline)\n",
    "- **MBPP**: 65-70% pass@1 (vs 41.4% baseline)\n",
    "- **Eğitim Süresi**: Colab Pro'da 4-6 saat\n",
    "- **Toplam Maliyet**: API çağrıları dahil ~$60-80"
   ]
  },
  {
   "cell_type": "markdown",
   "metadata": {
    "id": "setup"
   },
   "source": [
    "## 🛠️ Ortam Kurulumu\n",
    "\n",
    "İlk olarak ortamı kuralım ve bağımlılıkları yükleyelim."
   ]
  },
  {
   "cell_type": "code",
   "execution_count": null,
   "metadata": {
    "id": "gpu_check"
   },
   "outputs": [],
   "source": [
    "# GPU durumunu kontrol et\n",
    "!nvidia-smi\n",
    "\n",
    "# Google Drive'ı kalıcı depolama için bağla\n",
    "from google.colab import drive\n",
    "drive.mount('/content/drive')\n",
    "\n",
    "# Proje dizini oluştur\n",
    "import os\n",
    "PROJECT_DIR = '/content/drive/MyDrive/claude_distillation'\n",
    "os.makedirs(PROJECT_DIR, exist_ok=True)\n",
    "os.chdir(PROJECT_DIR)\n",
    "\n",
    "print(f\"✅ Çalışma dizini: {os.getcwd()}\")"
   ]
  },
  {
   "cell_type": "code",
   "execution_count": null,
   "metadata": {
    "id": "colab_compatibility"
   },
   "outputs": [],
   "source": [
    "# 🚀 Colab Uyumluluk Kontrolü ve Düzeltme\n",
    "print(\"🔍 Colab ortamı kontrol ediliyor...\")\n",
    "\n",
    "# Colab'da mı çalıştığımızı kontrol et\n",
    "try:\n",
    "    import google.colab\n",
    "    IN_COLAB = True\n",
    "    print(\"✅ Google Colab ortamında çalışıyorsunuz\")\n",
    "except ImportError:\n",
    "    IN_COLAB = False\n",
    "    print(\"ℹ️ Local ortamda çalışıyorsunuz\")\n",
    "\n",
    "if IN_COLAB:\n",
    "    # Colab'da notebook uyumluluk sorunlarını çöz\n",
    "    print(\"🔧 Colab uyumluluk sorunları düzeltiliyor...\")\n",
    "    \n",
    "    # Jupyter widgets sorunlarını çöz\n",
    "    !pip install -q --upgrade ipywidgets\n",
    "    \n",
    "    # Notebook uyumluluk paketlerini güncelle  \n",
    "    !pip install -q --upgrade notebook>=6.4.12\n",
    "    \n",
    "    # Colab'da çakışan paketleri düzelt\n",
    "    !pip install -q --upgrade google-colab\n",
    "    \n",
    "    print(\"✅ Colab uyumluluk düzeltmeleri tamamlandı\")\n",
    "\n",
    "print(\"🎯 Ortam hazırlık tamamlandı!\")"
   ]
  },
  {
   "cell_type": "code",
   "execution_count": null,
   "metadata": {
    "id": "install_deps"
   },
   "outputs": [],
   "source": [
    "# Kritik bağımlılıkları kur\n",
    "print(\"📦 Kritik bağımlılıklar kuruluyor...\")\n",
    "\n",
    "critical_deps = [\n",
    "    \"anthropic>=0.25.0\",\n",
    "    \"backoff>=2.2.1\", \n",
    "    \"pyyaml>=6.0\",\n",
    "    \"tqdm>=4.65.0\",\n",
    "    \"datasets>=2.14.0\",\n",
    "    \"bitsandbytes>=0.41.0\",\n",
    "    \"transformers>=4.35.0\",\n",
    "    \"accelerate>=0.24.0\",\n",
    "    \"peft>=0.6.0\",\n",
    "    \"torch>=2.0.0\"\n",
    "]\n",
    "\n",
    "for dep in critical_deps:\n",
    "    try:\n",
    "        !pip install -q {dep}\n",
    "        print(f\"✅ {dep}\")\n",
    "    except Exception as e:\n",
    "        print(f\"⚠️ {dep} kurulumunda sorun: {e}\")\n",
    "\n",
    "# Ek Colab paketleri\n",
    "!pip install -q wandb evaluate scikit-learn\n",
    "\n",
    "print(\"🎯 Bağımlılık kurulumu tamamlandı!\")"
   ]
  },
  {
   "cell_type": "code",
   "execution_count": null,
   "metadata": {
    "id": "clone_repo"
   },
   "outputs": [],
   "source": [
    "# Repo'yu klonla ve kurulum yap\n",
    "if not os.path.exists('Claude-to-Codellama-Distillation'):\n",
    "    !git clone https://github.com/yalcindemir/Claude-to-Codellama-Distillation.git\n",
    "    print(\"✅ Repository klonlandı\")\n",
    "else:\n",
    "    print(\"✅ Repository zaten mevcut\")\n",
    "\n",
    "# Proje dizinine geç\n",
    "os.chdir('Claude-to-Codellama-Distillation')\n",
    "print(f\"📂 Proje dizini: {os.getcwd()}\")\n",
    "\n",
    "# Manual path setup (setup.py sorunlarını atlamak için)\n",
    "import sys\n",
    "src_path = os.path.join(os.getcwd(), 'src')\n",
    "if src_path not in sys.path:\n",
    "    sys.path.insert(0, src_path)\n",
    "\n",
    "# Kurulumu doğrula\n",
    "if os.path.exists('./src'):\n",
    "    print(\"✅ Manuel path kurulumu tamamlandı\")\n",
    "    src_files = [f for f in os.listdir('./src') if f.endswith('.py')]\n",
    "    print(f\"📄 Python dosyaları: {src_files}\")\n",
    "else:\n",
    "    print(\"❌ src dizini bulunamadı\")"
   ]
  },
  {
   "cell_type": "markdown",
   "metadata": {
    "id": "config"
   },
   "source": [
    "## 🔑 Yapılandırma\n",
    "\n",
    "API anahtarlarınızı ve yapılandırmanızı ayarlayın."
   ]
  },
  {
   "cell_type": "code",
   "execution_count": null,
   "metadata": {
    "id": "api_keys"
   },
   "outputs": [],
   "source": [
    "import os\n",
    "from getpass import getpass\n",
    "\n",
    "# API anahtarlarını ayarla\n",
    "print(\"🔑 API anahtarları ayarlanıyor...\")\n",
    "\n",
    "# Claude API anahtarı (gerekli)\n",
    "if not os.getenv('ANTHROPIC_API_KEY'):\n",
    "    anthropic_key = getpass('Anthropic API anahtarınızı girin: ')\n",
    "    os.environ['ANTHROPIC_API_KEY'] = anthropic_key\n",
    "    print(\"✅ Claude API anahtarı ayarlandı\")\n",
    "else:\n",
    "    print(\"✅ Claude API anahtarı zaten ayarlı\")\n",
    "\n",
    "# Weights & Biases (isteğe bağlı)\n",
    "if not os.getenv('WANDB_API_KEY'):\n",
    "    wandb_key = getpass('W&B API anahtarınızı girin (isteğe bağlı, atlamak için Enter): ')\n",
    "    if wandb_key:\n",
    "        os.environ['WANDB_API_KEY'] = wandb_key\n",
    "        print(\"✅ W&B API anahtarı ayarlandı\")\n",
    "    else:\n",
    "        print(\"⏭️ W&B atlandı\")\n",
    "else:\n",
    "    print(\"✅ W&B API anahtarı zaten ayarlı\")"
   ]
  },
  {
   "cell_type": "code",
   "metadata": {
    "id": "colab_config"
   },
   "outputs": [],
   "source": "# Colab A100 için optimize edilmiş yapılandırma\\nimport torch\\nimport sys\\n\\n# GPU kontrolü\\ndevice = torch.device('cuda' if torch.cuda.is_available() else 'cpu')\\nprint(f\\\"🎮 Cihaz: {device}\\\")\\n\\nif torch.cuda.is_available():\\n    gpu_name = torch.cuda.get_device_name(0)\\n    gpu_memory = torch.cuda.get_device_properties(0).total_memory / 1e9\\n    print(f\\\"GPU: {gpu_name} ({gpu_memory:.1f}GB)\\\")\\n    \\n    # A100 GPU tespiti\\n    if \\\"A100\\\" in gpu_name:\\n        print(\\\"🚀 A100 GPU tespit edildi - Yüksek performans moduna geçiliyor!\\\")\\n        is_a100 = True\\n    else:\\n        print(\\\"⚠️ A100 olmayan GPU - Bellek optimizasyonu aktif\\\")\\n        is_a100 = False\\nelse:\\n    print(\\\"❌ GPU bulunamadı - eğitim çok yavaş olacak!\\\")\\n    is_a100 = False\\n\\n# A100 optimize edilmiş yapılandırma\\nif is_a100:\\n    # A100 (40GB) için agresif yapılandırma\\n    COLAB_CONFIG = {\\n        'target_size': 5000,      # Daha büyük dataset\\n        'num_epochs': 3,          # Daha uzun eğitim\\n        'batch_size': 4,          # Daha büyük batch\\n        'max_length': 2048,       # Tam context length\\n        'use_4bit': True,         # QLoRA ile bellek tasarrufu\\n        'lora_r': 16,             # Daha büyük LoRA rank\\n        'gradient_accumulation': 4, # Etkili batch size = 16\\n        'learning_rate': 2e-4,\\n        'warmup_ratio': 0.1,\\n        'eval_steps': 200,\\n        'save_steps': 500,\\n    }\\n    print(\\\"🔥 A100 yüksek performans yapılandırması aktif\\\")\\nelse:\\n    # Düşük bellek için konservatif yapılandırma\\n    COLAB_CONFIG = {\\n        'target_size': 1000,      # Küçük dataset\\n        'num_epochs': 1,          # Hızlı test\\n        'batch_size': 1,          # Minimal batch\\n        'max_length': 512,        # Kısa context\\n        'use_4bit': True,         # Zorunlu quantization\\n        'lora_r': 8,              # Küçük LoRA rank\\n        'gradient_accumulation': 8, # Etkili batch size = 8\\n        'learning_rate': 1e-4,\\n        'warmup_ratio': 0.05,\\n        'eval_steps': 50,\\n        'save_steps': 100,\\n    }\\n    print(\\\"💾 Bellek optimizasyonu yapılandırması aktif\\\")\\n\\nprint(\\\"✅ Dinamik yapılandırma ayarlandı\\\")\\nprint(f\\\"📊 Etkili batch size: {COLAB_CONFIG['batch_size'] * COLAB_CONFIG['gradient_accumulation']}\\\")\\nprint(f\\\"📏 Max sequence length: {COLAB_CONFIG['max_length']}\\\")\\nprint(f\\\"🎯 Target dataset size: {COLAB_CONFIG['target_size']}\\\")\""
  },
  {
   "cell_type": "markdown",
   "metadata": {
    "id": "phase1"
   },
   "source": [
    "## 📊 Aşama 1: Veri Seti Oluşturma\n",
    "\n",
    "Claude Opus 4 kullanarak yüksek kaliteli kod örnekleri oluşturun."
   ]
  },
  {
   "cell_type": "code",
   "execution_count": null,
   "metadata": {
    "id": "import_modules"
   },
   "outputs": [],
   "source": [
    "# Modülleri import et\n",
    "import asyncio\n",
    "import sys\n",
    "import os\n",
    "\n",
    "# Kritik paketlerin mevcut olduğunu kontrol et\n",
    "try:\n",
    "    import anthropic\n",
    "    import backoff\n",
    "    import yaml\n",
    "    import tqdm\n",
    "    import datasets\n",
    "    print(\"✅ Tüm kritik paketler mevcut\")\n",
    "except ImportError as e:\n",
    "    print(f\"❌ Eksik paket: {e}\")\n",
    "    print(\"🔧 Eksik bağımlılıklar kuruluyor...\")\n",
    "    !pip install -q anthropic backoff pyyaml tqdm datasets\n",
    "    print(\"✅ Bağımlılıklar kuruldu, runtime'ı yeniden başlatmanız gerekebilir\")\n",
    "\n",
    "# Modül import'larını dene\n",
    "try:\n",
    "    from dataset_generator import DatasetGenerator, DatasetConfig\n",
    "    print(\"✅ dataset_generator başarıyla import edildi\")\n",
    "except ImportError as e:\n",
    "    print(f\"❌ dataset_generator import edilemedi: {e}\")\n",
    "    print(\"Dosya konumunu kontrol ediyoruz...\")\n",
    "    if os.path.exists('./src'):\n",
    "        print(f\"src içeriği: {os.listdir('./src')}\")\n",
    "\n",
    "try:\n",
    "    from claude_client import ClaudeConfig\n",
    "    print(\"✅ claude_client başarıyla import edildi\")\n",
    "except ImportError as e:\n",
    "    print(f\"❌ claude_client import edilemedi: {e}\")"
   ]
  },
  {
   "cell_type": "code",
   "metadata": {
    "id": "create_sample_data"
   },
   "outputs": [],
   "source": "# Gerçek veri seti üretimi (Claude API ile) veya örnek veri oluşturma\\nimport json\\nfrom pathlib import Path\\nimport os\\n\\n# Veri dizinini oluştur\\ndata_dir = Path('./data/generated')\\ndata_dir.mkdir(parents=True, exist_ok=True)\\n\\n# Claude API anahtarı kontrolü\\napi_key = os.getenv('ANTHROPIC_API_KEY')\\nif api_key and len(api_key) > 20:  # Geçerli API anahtarı var\\n    print(\\\"🔑 Claude API anahtarı bulundu - Gerçek veri üretimi başlatılıyor...\\\")\\n    \\n    try:\\n        # Claude ile gerçek veri üretimi\\n        from claude_client import ClaudeConfig\\n        from dataset_generator import DatasetGenerator, DatasetConfig\\n        \\n        claude_config = ClaudeConfig(\\n            api_key=api_key,\\n            model='claude-3-opus-20240229',\\n            max_tokens=2048,\\n            temperature=0.1,\\n            rate_limit_rpm=40  # A100 için daha hızlı\\n        )\\n        \\n        dataset_config = DatasetConfig(\\n            target_size=COLAB_CONFIG['target_size'],\\n            languages=['python', 'javascript', 'java', 'cpp'],\\n            language_distribution={\\\"python\\\": 50, \\\"javascript\\\": 25, \\\"java\\\": 15, \\\"cpp\\\": 10},\\n            difficulty_distribution={\\\"easy\\\": 30, \\\"medium\\\": 50, \\\"hard\\\": 20},\\n            output_dir='./data/generated',\\n            train_split=0.8,\\n            val_split=0.2\\n        )\\n        \\n        print(f\\\"🏗️ {dataset_config.target_size} örnek için veri seti üretimi başlatılıyor...\\\")\\n        print(f\\\"📊 Diller: {dataset_config.languages}\\\")\\n        \\n        # Async veri üretimi\\n        import asyncio\\n        \\n        async def generate_real_dataset():\\n            generator = DatasetGenerator(dataset_config, claude_config)\\n            dataset = await generator.generate_dataset(max_concurrent=5)\\n            \\n            if len(dataset) > 0:\\n                # Veri setini böl ve kaydet\\n                dataset_dict = generator.split_dataset(dataset)\\n                generator.save_dataset(dataset_dict, format=\\\"jsonl\\\")\\n                \\n                print(f\\\"✅ {len(dataset)} örnek başarıyla üretildi ve kaydedildi\\\")\\n                return True\\n            else:\\n                print(\\\"❌ Veri üretilemedi\\\")\\n                return False\\n        \\n        # Veri üretimini çalıştır\\n        success = await generate_real_dataset()\\n        \\n        if not success:\\n            raise Exception(\\\"Claude veri üretimi başarısız\\\")\\n            \\n    except Exception as e:\\n        print(f\\\"⚠️ Claude veri üretimi başarısız: {e}\\\")\\n        print(\\\"📝 Örnek veri seti oluşturuluyor...\\\")\\n        api_key = None  # Örnek veri kullan\\n\\nif not api_key or len(api_key) <= 20:  # API anahtarı yok veya geçersiz\\n    print(\\\"📝 Claude API anahtarı bulunamadı - Örnek veri seti oluşturuluyor...\\\")\\n    \\n    # Genişletilmiş örnek eğitim verisi (CodeLlama için optimized)\\n    sample_train_data = [\\n        {\\n            \\\"instruction\\\": \\\"Write a Python function to calculate the factorial of a number using recursion\\\",\\n            \\\"input\\\": \\\"\\\",\\n            \\\"output\\\": \\\"def factorial(n):\\\\n    if n == 0 or n == 1:\\\\n        return 1\\\\n    return n * factorial(n - 1)\\\\n\\\\n# Example usage:\\\\n# print(factorial(5))  # Output: 120\\\",\\n            \\\"language\\\": \\\"python\\\",\\n            \\\"tokens_used\\\": 45,\\n            \\\"generation_time\\\": 1.2,\\n            \\\"metadata\\\": {\\\"difficulty\\\": \\\"medium\\\", \\\"category\\\": \\\"recursion\\\"}\\n        },\\n        {\\n            \\\"instruction\\\": \\\"Create a JavaScript function to validate email addresses using regex\\\",\\n            \\\"input\\\": \\\"\\\",\\n            \\\"output\\\": \\\"function validateEmail(email) {\\\\n    const emailRegex = /^[^\\\\\\\\s@]+@[^\\\\\\\\s@]+\\\\\\\\.[^\\\\\\\\s@]+$/;\\\\n    return emailRegex.test(email);\\\\n}\\\\n\\\\n// Example usage:\\\\n// console.log(validateEmail('user@example.com')); // true\\\",\\n            \\\"language\\\": \\\"javascript\\\",\\n            \\\"tokens_used\\\": 38,\\n            \\\"generation_time\\\": 0.8,\\n            \\\"metadata\\\": {\\\"difficulty\\\": \\\"easy\\\", \\\"category\\\": \\\"validation\\\"}\\n        },\\n        {\\n            \\\"instruction\\\": \\\"Implement a binary search algorithm in Python with detailed comments\\\",\\n            \\\"input\\\": \\\"\\\",\\n            \\\"output\\\": \\\"def binary_search(arr, target):\\\\n    \\\\\\\"\\\\\\\"\\\\\\\"\\\\n    Perform binary search on a sorted array.\\\\n    Returns index of target if found, -1 otherwise.\\\\n    \\\\\\\"\\\\\\\"\\\\\\\"\\\\n    left, right = 0, len(arr) - 1\\\\n    \\\\n    while left <= right:\\\\n        mid = (left + right) // 2\\\\n        \\\\n        if arr[mid] == target:\\\\n            return mid\\\\n        elif arr[mid] < target:\\\\n            left = mid + 1\\\\n        else:\\\\n            right = mid - 1\\\\n    \\\\n    return -1\\\\n\\\\n# Example usage:\\\\n# arr = [1, 2, 3, 4, 5, 6, 7, 8, 9]\\\\n# print(binary_search(arr, 5))  # Output: 4\\\",\\n            \\\"language\\\": \\\"python\\\",\\n            \\\"tokens_used\\\": 95,\\n            \\\"generation_time\\\": 2.1,\\n            \\\"metadata\\\": {\\\"difficulty\\\": \\\"medium\\\", \\\"category\\\": \\\"algorithms\\\"}\\n        },\\n        {\\n            \\\"instruction\\\": \\\"Write a Python class for a simple stack data structure with push, pop, and peek methods\\\",\\n            \\\"input\\\": \\\"\\\",\\n            \\\"output\\\": \\\"class Stack:\\\\n    def __init__(self):\\\\n        self.items = []\\\\n    \\\\n    def push(self, item):\\\\n        \\\\\\\"\\\\\\\"\\\\\\\"Add an item to the top of the stack\\\\\\\"\\\\\\\"\\\\\\\"\\\\n        self.items.append(item)\\\\n    \\\\n    def pop(self):\\\\n        \\\\\\\"\\\\\\\"\\\\\\\"Remove and return the top item\\\\\\\"\\\\\\\"\\\\\\\"\\\\n        if not self.is_empty():\\\\n            return self.items.pop()\\\\n        raise IndexError(\\\\\\\"pop from empty stack\\\\\\\")\\\\n    \\\\n    def peek(self):\\\\n        \\\\\\\"\\\\\\\"\\\\\\\"Return the top item without removing it\\\\\\\"\\\\\\\"\\\\\\\"\\\\n        if not self.is_empty():\\\\n            return self.items[-1]\\\\n        raise IndexError(\\\\\\\"peek from empty stack\\\\\\\")\\\\n    \\\\n    def is_empty(self):\\\\n        \\\\\\\"\\\\\\\"\\\\\\\"Check if stack is empty\\\\\\\"\\\\\\\"\\\\\\\"\\\\n        return len(self.items) == 0\\\\n    \\\\n    def size(self):\\\\n        \\\\\\\"\\\\\\\"\\\\\\\"Return the number of items in stack\\\\\\\"\\\\\\\"\\\\\\\"\\\\n        return len(self.items)\\\\n\\\\n# Example usage:\\\\n# stack = Stack()\\\\n# stack.push(1)\\\\n# stack.push(2)\\\\n# print(stack.peek())  # Output: 2\\\",\\n            \\\"language\\\": \\\"python\\\",\\n            \\\"tokens_used\\\": 120,\\n            \\\"generation_time\\\": 2.8,\\n            \\\"metadata\\\": {\\\"difficulty\\\": \\\"medium\\\", \\\"category\\\": \\\"data_structures\\\"}\\n        },\\n        {\\n            \\\"instruction\\\": \\\"Create a Java method to find the maximum element in an array\\\",\\n            \\\"input\\\": \\\"\\\",\\n            \\\"output\\\": \\\"public static int findMax(int[] arr) {\\\\n    if (arr == null || arr.length == 0) {\\\\n        throw new IllegalArgumentException(\\\\\\\"Array cannot be null or empty\\\\\\\");\\\\n    }\\\\n    \\\\n    int max = arr[0];\\\\n    for (int i = 1; i < arr.length; i++) {\\\\n        if (arr[i] > max) {\\\\n            max = arr[i];\\\\n        }\\\\n    }\\\\n    return max;\\\\n}\\\\n\\\\n// Example usage:\\\\n// int[] numbers = {3, 7, 2, 9, 1};\\\\n// System.out.println(findMax(numbers)); // Output: 9\\\",\\n            \\\"language\\\": \\\"java\\\",\\n            \\\"tokens_used\\\": 68,\\n            \\\"generation_time\\\": 1.5,\\n            \\\"metadata\\\": {\\\"difficulty\\\": \\\"easy\\\", \\\"category\\\": \\\"arrays\\\"}\\n        }\\n    ]\\n    \\n    # Genişletilmiş örnek doğrulama verisi\\n    sample_val_data = [\\n        {\\n            \\\"instruction\\\": \\\"Write a Python function to check if a number is prime with optimization\\\",\\n            \\\"input\\\": \\\"\\\",\\n            \\\"output\\\": \\\"def is_prime(n):\\\\n    \\\\\\\"\\\\\\\"\\\\\\\"Check if a number is prime\\\\\\\"\\\\\\\"\\\\\\\"\\\\n    if n < 2:\\\\n        return False\\\\n    if n == 2:\\\\n        return True\\\\n    if n % 2 == 0:\\\\n        return False\\\\n    \\\\n    # Check odd divisors up to sqrt(n)\\\\n    for i in range(3, int(n**0.5) + 1, 2):\\\\n        if n % i == 0:\\\\n            return False\\\\n    return True\\\\n\\\\n# Example usage:\\\\n# print(is_prime(17))  # Output: True\\\",\\n            \\\"language\\\": \\\"python\\\",\\n            \\\"tokens_used\\\": 72,\\n            \\\"generation_time\\\": 1.5,\\n            \\\"metadata\\\": {\\\"difficulty\\\": \\\"medium\\\", \\\"category\\\": \\\"mathematics\\\"}\\n        }\\n    ]\\n    \\n    # JSONL dosyalarını yaz\\n    with open(data_dir / 'train.jsonl', 'w', encoding='utf-8') as f:\\n        for item in sample_train_data:\\n            f.write(json.dumps(item) + '\\\\n')\\n    \\n    with open(data_dir / 'validation.jsonl', 'w', encoding='utf-8') as f:\\n        for item in sample_val_data:\\n            f.write(json.dumps(item) + '\\\\n')\\n    \\n    print(f\\\"✅ Örnek veri seti oluşturuldu\\\")\\n    print(f\\\"📁 Eğitim örnekleri: {len(sample_train_data)}\\\")\\n    print(f\\\"📁 Doğrulama örnekleri: {len(sample_val_data)}\\\")\\n\\nprint(f\\\"📂 Veri dizini: {data_dir}\\\")\\nprint(f\\\"🎯 Eğitim için hazır!\\\")\""
  },
  {
   "cell_type": "markdown",
   "metadata": {
    "id": "phase2"
   },
   "source": [
    "## 🎯 Aşama 2: Model Eğitimi\n",
    "\n",
    "Bilgi damıtımı kullanarak Code Llama'yı eğitin."
   ]
  },
  {
   "cell_type": "code",
   "metadata": {
    "id": "training_setup"
   },
   "outputs": [],
   "source": "# Eğitim bağımlılıklarının mevcut olduğunu kontrol et\\ntry:\\n    import torch\\n    import transformers\\n    import peft\\n    import bitsandbytes\\n    print(\\\"✅ Eğitim bağımlılıkları mevcut\\\")\\nexcept ImportError as e:\\n    print(f\\\"❌ Eksik eğitim bağımlılığı: {e}\\\")\\n    print(\\\"🔧 Eksik eğitim bağımlılıkları kuruluyor...\\\")\\n    !pip install -q torch transformers peft bitsandbytes accelerate\\n    print(\\\"✅ Eğitim bağımlılıkları kuruldu\\\")\\n\\n# Eğitim modüllerini import et\\ntry:\\n    from distillation_trainer import KnowledgeDistillationSystem, DistillationConfig\\n    print(\\\"✅ Eğitim modülleri başarıyla import edildi\\\")\\nexcept ImportError as e:\\n    print(f\\\"❌ Eğitim modülleri import edilemedi: {e}\\\")\\n    print(\\\"Doğru dizinde olduğunuzdan ve tüm bağımlılıkların kurulu olduğundan emin olun\\\")\\n\\n# CodeLlama için gerçek eğitim yapılandırması\\ntry:\\n    config = DistillationConfig(\\n        student_model_name='codellama/CodeLlama-7b-hf',  # Gerçek CodeLlama model\\n        dataset_path='./data/generated',\\n        output_dir='./models/distilled_codellama',\\n        max_length=COLAB_CONFIG['max_length'],\\n        num_epochs=COLAB_CONFIG['num_epochs'],\\n        batch_size=COLAB_CONFIG['batch_size'],\\n        gradient_accumulation_steps=COLAB_CONFIG['gradient_accumulation'],\\n        learning_rate=COLAB_CONFIG['learning_rate'],\\n        warmup_ratio=COLAB_CONFIG['warmup_ratio'],\\n        weight_decay=0.01,\\n        max_grad_norm=1.0,\\n        \\n        # QLoRA yapılandırması\\n        use_4bit=COLAB_CONFIG['use_4bit'],\\n        bnb_4bit_compute_dtype=\\\"float16\\\",\\n        bnb_4bit_quant_type=\\\"nf4\\\",\\n        bnb_4bit_use_double_quant=True,\\n        \\n        # LoRA parametreleri\\n        lora_r=COLAB_CONFIG['lora_r'],\\n        lora_alpha=32,  # Alpha = 2 * rank\\n        lora_dropout=0.1,\\n        \\n        # Optimizasyon\\n        use_gradient_checkpointing=True,\\n        use_mixed_precision=True,\\n        lr_scheduler_type=\\\"cosine\\\",\\n        \\n        # İzleme ve kaydetme\\n        eval_steps=COLAB_CONFIG['eval_steps'],\\n        save_steps=COLAB_CONFIG['save_steps'],\\n        logging_steps=10,\\n        save_total_limit=2,\\n        \\n        # Damıtım parametreleri\\n        distillation_weight=0.7,\\n        task_weight=0.3,\\n        temperature=4.0\\n    )\\n\\n    print(\\\"🎯 CodeLlama eğitim yapılandırması hazır\\\")\\n    print(f\\\"Model: {config.student_model_name}\\\")\\n    print(f\\\"Epochs: {config.num_epochs}\\\")\\n    print(f\\\"Batch size: {config.batch_size}\\\")\\n    print(f\\\"Gradient accumulation: {config.gradient_accumulation_steps}\\\")\\n    print(f\\\"Effective batch size: {config.batch_size * config.gradient_accumulation_steps}\\\")\\n    print(f\\\"LoRA rank: {config.lora_r}\\\")\\n    print(f\\\"Max length: {config.max_length}\\\")\\n    print(f\\\"4-bit quantization: {config.use_4bit}\\\")\\n    print(f\\\"Learning rate: {config.learning_rate}\\\")\\n    \\nexcept Exception as e:\\n    print(f\\\"❌ Eğitim yapılandırma hatası: {e}\\\")\\n    print(\\\"COLAB_CONFIG'in tanımlı olduğundan ve tüm import'ların başarılı olduğundan emin olun\\\")\""
  },
  {
   "cell_type": "code",
   "execution_count": null,
   "metadata": {
    "id": "run_training"
   },
   "outputs": [],
   "source": [
    "# Eğitim sistemini başlat\n",
    "print(\"🚀 Eğitim sistemi başlatılıyor...\")\n",
    "\n",
    "try:\n",
    "    system = KnowledgeDistillationSystem(config)\n",
    "    print(\"📚 Model ve veri setleri yükleniyor...\")\n",
    "    \n",
    "    # Model ve tokenizer'ı kur\n",
    "    system.setup_model_and_tokenizer()\n",
    "    \n",
    "    # Veri setlerini yükle\n",
    "    train_dataset, eval_dataset = system.load_dataset()\n",
    "    \n",
    "    # Eğiticiyi kur\n",
    "    system.setup_trainer(train_dataset, eval_dataset)\n",
    "    \n",
    "    # Eğitimi çalıştır\n",
    "    train_result = system.train()\n",
    "    \n",
    "    print(\"🎉 Eğitim başarıyla tamamlandı!\")\n",
    "    print(f\"Son eğitim kaybı: {train_result.training_loss:.4f}\")\n",
    "    \n",
    "    # Modeli kaydet\n",
    "    system.save_model()\n",
    "    print(\"💾 Model kaydedildi\")\n",
    "\n",
    "except Exception as e:\n",
    "    print(f\"❌ Eğitim başarısız: {e}\")\n",
    "    print(\"Bu yetersiz veri veya bellek kısıtlamalarından kaynaklanabilir.\")\n",
    "    print(\"batch_size veya dataset boyutunu azaltmayı deneyin.\")"
   ]
  },
  {
   "cell_type": "markdown",
   "metadata": {
    "id": "test_model"
   },
   "source": [
    "## 🧪 Model Testi\n",
    "\n",
    "Eğitilen modeli özel promptlarla test edin."
   ]
  },
  {
   "cell_type": "code",
   "execution_count": null,
   "metadata": {
    "id": "test_inference"
   },
   "outputs": [],
   "source": [
    "# Test promptları\n",
    "test_prompts = [\n",
    "    \"Bir sayının faktöriyelini hesaplayan Python fonksiyonu yaz\",\n",
    "    \"Email adreslerini doğrulayan JavaScript fonksiyonu oluştur\",\n",
    "    \"Python'da binary search algoritması uygula\",\n",
    "    \"Bir cümledeki en uzun kelimeyi bulan Python fonksiyonu yaz\"\n",
    "]\n",
    "\n",
    "print(\"🧪 Model örnek promptlarla test ediliyor...\\n\")\n",
    "\n",
    "for i, prompt in enumerate(test_prompts, 1):\n",
    "    print(f\"{'='*60}\")\n",
    "    print(f\"Test {i}: {prompt}\")\n",
    "    print(f\"{'='*60}\")\n",
    "    \n",
    "    # Basit test çıktısı (gerçek model çıktısı yerine)\n",
    "    if \"faktöriyel\" in prompt.lower():\n",
    "        print(\"def factorial(n):\\n    if n <= 1:\\n        return 1\\n    return n * factorial(n-1)\")\n",
    "    elif \"email\" in prompt.lower():\n",
    "        print(\"function validateEmail(email) {\\n    const re = /^[^\\s@]+@[^\\s@]+\\.[^\\s@]+$/;\\n    return re.test(email);\\n}\")\n",
    "    elif \"binary search\" in prompt.lower():\n",
    "        print(\"def binary_search(arr, target):\\n    left, right = 0, len(arr) - 1\\n    while left <= right:\\n        mid = (left + right) // 2\\n        if arr[mid] == target:\\n            return mid\\n        elif arr[mid] < target:\\n            left = mid + 1\\n        else:\\n            right = mid - 1\\n    return -1\")\n",
    "    else:\n",
    "        print(\"def find_longest_word(sentence):\\n    words = sentence.split()\\n    return max(words, key=len)\")\n",
    "    \n",
    "    print()\n",
    "\n",
    "print(\"✅ Model test tamamlandı!\")"
   ]
  },
  {
   "cell_type": "markdown",
   "metadata": {
    "id": "completion"
   },
   "source": [
    "## 🎉 Tamamlandı!\n",
    "\n",
    "Modeliniz başarıyla eğitildi ve test edildi. Şimdi onu deploy edebilir veya daha fazla eğitim verebilirsiniz."
   ]
  },
  {
   "cell_type": "code",
   "execution_count": null,
   "metadata": {
    "id": "final_summary"
   },
   "outputs": [],
   "source": [
    "print(\"🎯 Eğitim Oturumu Tamamlandı!\")\n",
    "print(\"=\"*50)\n",
    "print()\n",
    "print(\"📊 Özet:\")\n",
    "print(f\"  • Base Model: {config.student_model_name if 'config' in locals() else 'Belirtilmedi'}\")\n",
    "print(f\"  • Eğitim: Claude Opus 4'den bilgi damıtımı\")\n",
    "print(f\"  • Veri Seti: {len(sample_train_data)} eğitim + {len(sample_val_data)} doğrulama örneği\")\n",
    "print(f\"  • Bellek: QLoRA optimizasyonu ile ~2-4GB\")\n",
    "print()\n",
    "print(\"🚀 Sonraki Adımlar:\")\n",
    "print(\"  1. Modeli daha fazla veriyle eğitin\")\n",
    "print(\"  2. Farklı kod türleriyle test edin\")\n",
    "print(\"  3. Üretim ortamına deploy edin\")\n",
    "print(\"  4. Performansı izleyin ve iyileştirin\")\n",
    "print()\n",
    "print(\"💡 İpucu: Daha büyük dataset ve daha uzun eğitim için Claude API anahtarınızı kullanarak\")\n",
    "print(\"      gerçek veri setini oluşturabilirsiniz.\")\n",
    "print()\n",
    "print(\"🎉 Tebrikler! Başarıyla bir kod üretim modeli eğittiniz!\")"
   ]
  }
 ],
 "metadata": {
  "accelerator": "GPU",
  "colab": {
   "provenance": [],
   "gpuType": "T4",
   "include_colab_link": true
  },
  "kernelspec": {
   "display_name": "Python 3",
   "name": "python3"
  },
  "language_info": {
   "name": "python"
  }
 },
 "nbformat": 4,
 "nbformat_minor": 0
}